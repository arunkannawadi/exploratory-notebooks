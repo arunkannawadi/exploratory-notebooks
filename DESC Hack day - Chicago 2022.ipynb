{
 "cells": [
  {
   "cell_type": "code",
   "execution_count": 1,
   "id": "70622879",
   "metadata": {},
   "outputs": [],
   "source": [
    "import lsst.daf.butler as dafButler"
   ]
  },
  {
   "cell_type": "code",
   "execution_count": 2,
   "id": "3ceab3fa",
   "metadata": {},
   "outputs": [],
   "source": [
    "REPO = \"/repo/dc2/\"\n",
    "COLL = \"2.2i/runs/test-med-1/w_2021_48/DM-32707\""
   ]
  },
  {
   "cell_type": "code",
   "execution_count": 3,
   "id": "2aa6fac2",
   "metadata": {},
   "outputs": [],
   "source": [
    "butler = dafButler.Butler(REPO, collections=[COLL,])"
   ]
  },
  {
   "cell_type": "code",
   "execution_count": 4,
   "id": "895f9d7c",
   "metadata": {},
   "outputs": [],
   "source": [
    "dataId = {\"tract\": 3828,\n",
    "          \"patch\": 45,\n",
    "          \"band\": \"i\",\n",
    "          \"skymap\": \"DC2\"\n",
    "         }"
   ]
  },
  {
   "cell_type": "markdown",
   "id": "ccd32f75",
   "metadata": {},
   "source": [
    "## The naive way - getting info about the coadd but loading it"
   ]
  },
  {
   "cell_type": "code",
   "execution_count": 5,
   "id": "e906b7bc",
   "metadata": {},
   "outputs": [],
   "source": [
    "deepCoadd = butler.get(\"deepCoadd\", dataId=dataId)"
   ]
  },
  {
   "cell_type": "code",
   "execution_count": 6,
   "id": "4625402d",
   "metadata": {},
   "outputs": [
    {
     "data": {
      "text/plain": [
       "<class 'lsst.afw.table.ExposureCatalog'>\n",
       "    id    bbox_min_x bbox_min_y bbox_max_x bbox_max_y ccd visit  goodpix        weight         filter \n",
       "             pix        pix        pix        pix                                                     \n",
       "--------- ---------- ---------- ---------- ---------- --- ------ -------- ------------------ ---------\n",
       "204708000          0          0       4071       3999   0 204708   195657  4.317103494236756 i_sim_1.4\n",
       "204708001          0          0       4071       3999   1 204708 13223867  4.317103494236756 i_sim_1.4\n",
       "204708002          0          0       4071       3999   2 204708   912366  4.317103494236756 i_sim_1.4\n",
       "204708004          0          0       4071       3999   4 204708  1586036  4.317103494236756 i_sim_1.4\n",
       "211478000          0          0       4071       3999   0 211478    31251 1.8104210606843396 i_sim_1.4\n",
       "433962000          0          0       4071       3999   0 433962  2819671 3.8127695024756227 i_sim_1.4\n",
       "433962001          0          0       4071       3999   1 433962  7323358 3.8127695024756227 i_sim_1.4\n",
       "433962003          0          0       4071       3999   3 433962  1197337 3.8127695024756227 i_sim_1.4\n",
       "433962004          0          0       4071       3999   4 433962  4020356 3.8127695024756227 i_sim_1.4\n",
       "      ...        ...        ...        ...        ... ...    ...      ...                ...       ...\n",
       "211100168          0          0       4071       3999 168 211100 11972991 1.9640951393649244 i_sim_1.4\n",
       "211100169          0          0       4071       3999 169 211100  1460695 1.9640951393649244 i_sim_1.4\n",
       "496959177          0          0       4071       3999 177 496959  4733686 1.7421118535065392 i_sim_1.4\n",
       "496959178          0          0       4071       3999 178 496959  7229529 1.7421118535065392 i_sim_1.4\n",
       "211530178          0          0       4071       3999 178 211530   117450  1.793412781300253 i_sim_1.4\n",
       "214464178          0          0       4071       3999 178 214464  7268290  4.456617296673616 i_sim_1.4\n",
       "214464179          0          0       4071       3999 179 214464  4411967  4.456617296673616 i_sim_1.4\n",
       "457721178          0          0       4071       3999 178 457721  3180795  2.404870804672022 i_sim_1.4\n",
       "457721179          0          0       4071       3999 179 457721  7629158  2.404870804672022 i_sim_1.4\n",
       "Length = 151 rows"
      ]
     },
     "execution_count": 6,
     "metadata": {},
     "output_type": "execute_result"
    }
   ],
   "source": [
    "info = deepCoadd.getInfo()\n",
    "coadd_inputs = info.getCoaddInputs()\n",
    "coadd_inputs.ccds"
   ]
  },
  {
   "cell_type": "markdown",
   "id": "e47dd42e",
   "metadata": {},
   "source": [
    "# A better way - get info about the coadd w/o loading the image"
   ]
  },
  {
   "cell_type": "code",
   "execution_count": 7,
   "id": "ee5f4914",
   "metadata": {},
   "outputs": [],
   "source": [
    "deepCoadd_def = butler.getDeferred(\"deepCoadd\", dataId)"
   ]
  },
  {
   "cell_type": "code",
   "execution_count": 8,
   "id": "c7b7f71f",
   "metadata": {},
   "outputs": [
    {
     "data": {
      "text/plain": [
       "<class 'lsst.afw.table.ExposureCatalog'>\n",
       "    id    bbox_min_x bbox_min_y bbox_max_x bbox_max_y ccd visit  goodpix        weight         filter \n",
       "             pix        pix        pix        pix                                                     \n",
       "--------- ---------- ---------- ---------- ---------- --- ------ -------- ------------------ ---------\n",
       "204708000          0          0       4071       3999   0 204708   195657  4.317103494236756 i_sim_1.4\n",
       "204708001          0          0       4071       3999   1 204708 13223867  4.317103494236756 i_sim_1.4\n",
       "204708002          0          0       4071       3999   2 204708   912366  4.317103494236756 i_sim_1.4\n",
       "204708004          0          0       4071       3999   4 204708  1586036  4.317103494236756 i_sim_1.4\n",
       "211478000          0          0       4071       3999   0 211478    31251 1.8104210606843396 i_sim_1.4\n",
       "433962000          0          0       4071       3999   0 433962  2819671 3.8127695024756227 i_sim_1.4\n",
       "433962001          0          0       4071       3999   1 433962  7323358 3.8127695024756227 i_sim_1.4\n",
       "433962003          0          0       4071       3999   3 433962  1197337 3.8127695024756227 i_sim_1.4\n",
       "433962004          0          0       4071       3999   4 433962  4020356 3.8127695024756227 i_sim_1.4\n",
       "      ...        ...        ...        ...        ... ...    ...      ...                ...       ...\n",
       "211100168          0          0       4071       3999 168 211100 11972991 1.9640951393649244 i_sim_1.4\n",
       "211100169          0          0       4071       3999 169 211100  1460695 1.9640951393649244 i_sim_1.4\n",
       "496959177          0          0       4071       3999 177 496959  4733686 1.7421118535065392 i_sim_1.4\n",
       "496959178          0          0       4071       3999 178 496959  7229529 1.7421118535065392 i_sim_1.4\n",
       "211530178          0          0       4071       3999 178 211530   117450  1.793412781300253 i_sim_1.4\n",
       "214464178          0          0       4071       3999 178 214464  7268290  4.456617296673616 i_sim_1.4\n",
       "214464179          0          0       4071       3999 179 214464  4411967  4.456617296673616 i_sim_1.4\n",
       "457721178          0          0       4071       3999 178 457721  3180795  2.404870804672022 i_sim_1.4\n",
       "457721179          0          0       4071       3999 179 457721  7629158  2.404870804672022 i_sim_1.4\n",
       "Length = 151 rows"
      ]
     },
     "execution_count": 8,
     "metadata": {},
     "output_type": "execute_result"
    }
   ],
   "source": [
    "coaddInputs = deepCoadd_def.get(component=\"coaddInputs\")\n",
    "coaddInputs.ccds"
   ]
  },
  {
   "cell_type": "markdown",
   "id": "5765b2d8",
   "metadata": {},
   "source": [
    "If you want slightly better visualization of the table, then convert it to an astropy table."
   ]
  },
  {
   "cell_type": "code",
   "execution_count": 9,
   "id": "edba201d",
   "metadata": {},
   "outputs": [
    {
     "data": {
      "text/html": [
       "<div><i>Table length=151</i>\n",
       "<table id=\"table139648137201024\" class=\"table-striped table-bordered table-condensed\">\n",
       "<thead><tr><th>id</th><th>bbox_min_x</th><th>bbox_min_y</th><th>bbox_max_x</th><th>bbox_max_y</th><th>ccd</th><th>visit</th><th>goodpix</th><th>weight</th><th>filter</th></tr></thead>\n",
       "<thead><tr><th></th><th>pix</th><th>pix</th><th>pix</th><th>pix</th><th></th><th></th><th></th><th></th><th></th></tr></thead>\n",
       "<thead><tr><th>int64</th><th>int32</th><th>int32</th><th>int32</th><th>int32</th><th>int32</th><th>int64</th><th>int32</th><th>float64</th><th>str32</th></tr></thead>\n",
       "<tr><td>204708000</td><td>0</td><td>0</td><td>4071</td><td>3999</td><td>0</td><td>204708</td><td>195657</td><td>4.317103494236756</td><td>i_sim_1.4</td></tr>\n",
       "<tr><td>204708001</td><td>0</td><td>0</td><td>4071</td><td>3999</td><td>1</td><td>204708</td><td>13223867</td><td>4.317103494236756</td><td>i_sim_1.4</td></tr>\n",
       "<tr><td>204708002</td><td>0</td><td>0</td><td>4071</td><td>3999</td><td>2</td><td>204708</td><td>912366</td><td>4.317103494236756</td><td>i_sim_1.4</td></tr>\n",
       "<tr><td>204708004</td><td>0</td><td>0</td><td>4071</td><td>3999</td><td>4</td><td>204708</td><td>1586036</td><td>4.317103494236756</td><td>i_sim_1.4</td></tr>\n",
       "<tr><td>211478000</td><td>0</td><td>0</td><td>4071</td><td>3999</td><td>0</td><td>211478</td><td>31251</td><td>1.8104210606843396</td><td>i_sim_1.4</td></tr>\n",
       "<tr><td>433962000</td><td>0</td><td>0</td><td>4071</td><td>3999</td><td>0</td><td>433962</td><td>2819671</td><td>3.8127695024756227</td><td>i_sim_1.4</td></tr>\n",
       "<tr><td>433962001</td><td>0</td><td>0</td><td>4071</td><td>3999</td><td>1</td><td>433962</td><td>7323358</td><td>3.8127695024756227</td><td>i_sim_1.4</td></tr>\n",
       "<tr><td>433962003</td><td>0</td><td>0</td><td>4071</td><td>3999</td><td>3</td><td>433962</td><td>1197337</td><td>3.8127695024756227</td><td>i_sim_1.4</td></tr>\n",
       "<tr><td>...</td><td>...</td><td>...</td><td>...</td><td>...</td><td>...</td><td>...</td><td>...</td><td>...</td><td>...</td></tr>\n",
       "<tr><td>211100168</td><td>0</td><td>0</td><td>4071</td><td>3999</td><td>168</td><td>211100</td><td>11972991</td><td>1.9640951393649244</td><td>i_sim_1.4</td></tr>\n",
       "<tr><td>211100169</td><td>0</td><td>0</td><td>4071</td><td>3999</td><td>169</td><td>211100</td><td>1460695</td><td>1.9640951393649244</td><td>i_sim_1.4</td></tr>\n",
       "<tr><td>496959177</td><td>0</td><td>0</td><td>4071</td><td>3999</td><td>177</td><td>496959</td><td>4733686</td><td>1.7421118535065392</td><td>i_sim_1.4</td></tr>\n",
       "<tr><td>496959178</td><td>0</td><td>0</td><td>4071</td><td>3999</td><td>178</td><td>496959</td><td>7229529</td><td>1.7421118535065392</td><td>i_sim_1.4</td></tr>\n",
       "<tr><td>211530178</td><td>0</td><td>0</td><td>4071</td><td>3999</td><td>178</td><td>211530</td><td>117450</td><td>1.793412781300253</td><td>i_sim_1.4</td></tr>\n",
       "<tr><td>214464178</td><td>0</td><td>0</td><td>4071</td><td>3999</td><td>178</td><td>214464</td><td>7268290</td><td>4.456617296673616</td><td>i_sim_1.4</td></tr>\n",
       "<tr><td>214464179</td><td>0</td><td>0</td><td>4071</td><td>3999</td><td>179</td><td>214464</td><td>4411967</td><td>4.456617296673616</td><td>i_sim_1.4</td></tr>\n",
       "<tr><td>457721178</td><td>0</td><td>0</td><td>4071</td><td>3999</td><td>178</td><td>457721</td><td>3180795</td><td>2.404870804672022</td><td>i_sim_1.4</td></tr>\n",
       "<tr><td>457721179</td><td>0</td><td>0</td><td>4071</td><td>3999</td><td>179</td><td>457721</td><td>7629158</td><td>2.404870804672022</td><td>i_sim_1.4</td></tr>\n",
       "</table></div>"
      ],
      "text/plain": [
       "<Table length=151>\n",
       "    id    bbox_min_x bbox_min_y bbox_max_x bbox_max_y  ccd  visit  goodpix        weight         filter \n",
       "             pix        pix        pix        pix                                                       \n",
       "  int64     int32      int32      int32      int32    int32 int64   int32        float64         str32  \n",
       "--------- ---------- ---------- ---------- ---------- ----- ------ -------- ------------------ ---------\n",
       "204708000          0          0       4071       3999     0 204708   195657  4.317103494236756 i_sim_1.4\n",
       "204708001          0          0       4071       3999     1 204708 13223867  4.317103494236756 i_sim_1.4\n",
       "204708002          0          0       4071       3999     2 204708   912366  4.317103494236756 i_sim_1.4\n",
       "204708004          0          0       4071       3999     4 204708  1586036  4.317103494236756 i_sim_1.4\n",
       "211478000          0          0       4071       3999     0 211478    31251 1.8104210606843396 i_sim_1.4\n",
       "433962000          0          0       4071       3999     0 433962  2819671 3.8127695024756227 i_sim_1.4\n",
       "433962001          0          0       4071       3999     1 433962  7323358 3.8127695024756227 i_sim_1.4\n",
       "433962003          0          0       4071       3999     3 433962  1197337 3.8127695024756227 i_sim_1.4\n",
       "      ...        ...        ...        ...        ...   ...    ...      ...                ...       ...\n",
       "211100168          0          0       4071       3999   168 211100 11972991 1.9640951393649244 i_sim_1.4\n",
       "211100169          0          0       4071       3999   169 211100  1460695 1.9640951393649244 i_sim_1.4\n",
       "496959177          0          0       4071       3999   177 496959  4733686 1.7421118535065392 i_sim_1.4\n",
       "496959178          0          0       4071       3999   178 496959  7229529 1.7421118535065392 i_sim_1.4\n",
       "211530178          0          0       4071       3999   178 211530   117450  1.793412781300253 i_sim_1.4\n",
       "214464178          0          0       4071       3999   178 214464  7268290  4.456617296673616 i_sim_1.4\n",
       "214464179          0          0       4071       3999   179 214464  4411967  4.456617296673616 i_sim_1.4\n",
       "457721178          0          0       4071       3999   178 457721  3180795  2.404870804672022 i_sim_1.4\n",
       "457721179          0          0       4071       3999   179 457721  7629158  2.404870804672022 i_sim_1.4"
      ]
     },
     "execution_count": 9,
     "metadata": {},
     "output_type": "execute_result"
    }
   ],
   "source": [
    "coaddInputs.ccds.asAstropy()"
   ]
  },
  {
   "cell_type": "markdown",
   "id": "2fde9c3c",
   "metadata": {},
   "source": [
    "## How did I know what to provide for the component?\n",
    "\n",
    "The rule of thumb is to drop `get` from the method name and use lowercase for the first letter.\n",
    "\n",
    "E.g.,\n",
    "\n",
    "- getWcs -> wcs\n",
    "- getPsf -> psf\n",
    "- getBBox -> bbox (this is an exception!)"
   ]
  },
  {
   "cell_type": "markdown",
   "id": "586d3a23",
   "metadata": {},
   "source": [
    "This cell below is a butler-magic that lists all the components.\n",
    "However, not all components may be applicable to `deepCoadd`."
   ]
  },
  {
   "cell_type": "code",
   "execution_count": 10,
   "id": "e07380bb",
   "metadata": {},
   "outputs": [
    {
     "data": {
      "text/plain": [
       "[DatasetType('deepCoadd.image', {band, skymap, tract, patch}, ImageF, parentStorageClass=ExposureF),\n",
       " DatasetType('deepCoadd.mask', {band, skymap, tract, patch}, MaskX, parentStorageClass=ExposureF),\n",
       " DatasetType('deepCoadd.variance', {band, skymap, tract, patch}, ImageF, parentStorageClass=ExposureF),\n",
       " DatasetType('deepCoadd.wcs', {band, skymap, tract, patch}, Wcs, parentStorageClass=ExposureF),\n",
       " DatasetType('deepCoadd.psf', {band, skymap, tract, patch}, Psf, parentStorageClass=ExposureF),\n",
       " DatasetType('deepCoadd.photoCalib', {band, skymap, tract, patch}, PhotoCalib, parentStorageClass=ExposureF),\n",
       " DatasetType('deepCoadd.visitInfo', {band, skymap, tract, patch}, VisitInfo, parentStorageClass=ExposureF),\n",
       " DatasetType('deepCoadd.apCorrMap', {band, skymap, tract, patch}, ApCorr, parentStorageClass=ExposureF),\n",
       " DatasetType('deepCoadd.coaddInputs', {band, skymap, tract, patch}, CoaddInputs, parentStorageClass=ExposureF),\n",
       " DatasetType('deepCoadd.transmissionCurve', {band, skymap, tract, patch}, TransmissionCurve, parentStorageClass=ExposureF),\n",
       " DatasetType('deepCoadd.metadata', {band, skymap, tract, patch}, PropertyList, parentStorageClass=ExposureF),\n",
       " DatasetType('deepCoadd.filterLabel', {band, skymap, tract, patch}, FilterLabel, parentStorageClass=ExposureF),\n",
       " DatasetType('deepCoadd.detector', {band, skymap, tract, patch}, Detector, parentStorageClass=ExposureF),\n",
       " DatasetType('deepCoadd.validPolygon', {band, skymap, tract, patch}, Polygon, parentStorageClass=ExposureF),\n",
       " DatasetType('deepCoadd.summaryStats', {band, skymap, tract, patch}, ExposureSummaryStats, parentStorageClass=ExposureF),\n",
       " DatasetType('deepCoadd.id', {band, skymap, tract, patch}, int, parentStorageClass=ExposureF),\n",
       " DatasetType('deepCoadd.bbox', {band, skymap, tract, patch}, Box2I, parentStorageClass=ExposureF),\n",
       " DatasetType('deepCoadd.dimensions', {band, skymap, tract, patch}, Extent2I, parentStorageClass=ExposureF),\n",
       " DatasetType('deepCoadd.xy0', {band, skymap, tract, patch}, Point2I, parentStorageClass=ExposureF),\n",
       " DatasetType('deepCoadd.filter', {band, skymap, tract, patch}, Filter, parentStorageClass=ExposureF)]"
      ]
     },
     "execution_count": 10,
     "metadata": {},
     "output_type": "execute_result"
    }
   ],
   "source": [
    "deepCoadd_def.ref.datasetType.makeAllComponentDatasetTypes()"
   ]
  },
  {
   "cell_type": "code",
   "execution_count": null,
   "id": "5f59c3af",
   "metadata": {},
   "outputs": [],
   "source": []
  }
 ],
 "metadata": {
  "kernelspec": {
   "display_name": "Python 3 (ipykernel)",
   "language": "python",
   "name": "python3"
  },
  "language_info": {
   "codemirror_mode": {
    "name": "ipython",
    "version": 3
   },
   "file_extension": ".py",
   "mimetype": "text/x-python",
   "name": "python",
   "nbconvert_exporter": "python",
   "pygments_lexer": "ipython3",
   "version": "3.8.12"
  }
 },
 "nbformat": 4,
 "nbformat_minor": 5
}
